{
 "cells": [
  {
   "cell_type": "markdown",
   "id": "f00c01c7",
   "metadata": {},
   "source": [
    "DATA 300 - Professor Kennedy Odongo \n",
    "FALL 2023 - HW1\n",
    "Tai Nguyen"
   ]
  },
  {
   "cell_type": "markdown",
   "id": "fdfc82b0",
   "metadata": {},
   "source": [
    "# Theory part"
   ]
  },
  {
   "cell_type": "markdown",
   "id": "7fc268a1",
   "metadata": {},
   "source": [
    "1. \n",
    "a. Bias and variance in Machine Learning\n",
    "- Bias refers to the error introduced when using a model to analyze a real-world problem. It represents the model's tendency to underpredict or overpredict true vales.  \n",
    "- Variance refers to the model's sensitivity to changes made to the training set. It measures the extent to which the model's predictions vary when trained on different subsets of the same dataset.\n",
    "\n",
    "b. Bias-variance tradeoff is a concept in machine learning that involves finding the right balance between two types of errors: underfitting (high bias) and overfitting (high variance).\n",
    "\n",
    "c. High bias (underfitting) occurs when a model is too simple and cannot capture the underlying patterns in data, leading to systematic errors. High variance (overfitting) arises when a model is overly complex and fits the noise in the data, resulting in errors that vary widely with different datasets. Achieving the optimal tradeoff minimizes both bias and variance, leading to a model that generalizes well to new data and performs effectively."
   ]
  },
  {
   "cell_type": "markdown",
   "id": "33acf634",
   "metadata": {},
   "source": [
    "2. \n",
    "Assumptions in linear regression\n",
    "- Lineariality (the relationship between the independent variables (predictors) and the dependent variable (target) is assumed to be linear)\n",
    "- The independence of error terms (a model making mistake on sample unit i doesn't mean it will likely make the same mistake on unit i+1)\n",
    "- Normality of errors (the residuals should follow a normal distribution)\n",
    "- No or little Collinearity (the predictors should not uncorrelated with each other)"
   ]
  },
  {
   "cell_type": "markdown",
   "id": "851d27ea",
   "metadata": {},
   "source": [
    "3. \n",
    "Interpret model coefficients\n",
    "- if there is no change on the frequency of smoking and others, biking more actually correlates with a lower rate of heart disease \n",
    "- meanwhile, if there is no change on the frequency of biking and others, smoking more correlates with a higher rate of heart disease"
   ]
  },
  {
   "cell_type": "markdown",
   "id": "c53fb960",
   "metadata": {},
   "source": [
    "4. \n",
    "a. Equation for the regression\n",
    "sales = 3.52667 + 0.04576 * youtube + 0.18853 * facebook - 0.00104 * newspaper\n",
    "b. Interpreting\n",
    "- Residuals:\n",
    "Residual values, or visualized using boxplot, indicate that this is a normal/symmetric distribution. For linear regression, we need the residuals to be normally distributed\n",
    "- Coefficients: \n",
    "The coefficients output indicates that if there is no change on other predictors, an additional budget unit spent on youtube advertising correlates with approximately 0.05 increase value on sales. Likewise, an additional budget unit spent on facebook advertising correlates with approximately 0.19 increase value on sales. On the other hand, an additional budget unit spent on newspaper advertising correlates with approximately 0.001 decrease value on sales. Lastly, if ad budget for the three all platforms equals zero, the advertising budget is 3.53\n",
    "- Standard Error:\n",
    "Standard errors measure the uncertainty of the model's calculations of coefficients. For the regression, standard values mean the 95% confidence intervals in which coeffients are likely to vary. For example, standard error value of 0.001 means that youtube's actual coefficient may vary within this range. \n",
    "- t-value:\n",
    "The larger t-value is, the more certain we can be that coefficient is not null. For example, looking at t-values of youtube and facebook predictors, we can be certain that their coefficients are greater than null value. On the other hand, we can say that newspaper's coefficient is less than the null value. \n",
    "- p-value: \n",
    "If p-value is less than the indicated alpha level (typically 0.05), the predictor variable is said to be statistically significant. Looking at the p-value of the regression output, we can see that it is less than 0.05, which could indicate that the predictor variables are statistically insignificant, meaning there is at least 1 independent variable is related to the response variable. \n",
    "- R-squared:\n",
    "R-square (or coefficient of determination) tells us the proportion of the variance in the response variable that can be explained by the predictor variables, ranging from 0 to 1. R-squared value of 0.897 in the output, which is closer to 1, indicates that the predictor variables (youtube, facebook, newspaper) are able to predict well the value of the response variable (sales).\n",
    "- F-statistic:\n",
    "We can see from our model, the F-statistic is very large and our p-value is so small - it is basically zero. This would lead us to reject the null hypothesis and conclude that there is strong evidence that a relationship does exist between sales and at least one advertising platform."
   ]
  },
  {
   "cell_type": "markdown",
   "id": "ec458ab6",
   "metadata": {},
   "source": [
    "# Programming Part"
   ]
  },
  {
   "cell_type": "code",
   "execution_count": 12,
   "id": "47a33fa7",
   "metadata": {},
   "outputs": [],
   "source": [
    "import numpy as np # v 1.21.5\n",
    "import sklearn # v 1.02.\n",
    "import pandas as pd # v 1.5.3\n",
    "import matplotlib.pyplot as plt # v 3.7.1\n",
    "import statsmodels.api as sm # v.0.13.2\n",
    "\n",
    "from sklearn.linear_model import LinearRegression\n",
    "from sklearn.model_selection import train_test_split\n",
    "\n",
    "from sklearn.metrics import mean_absolute_error\n",
    "from sklearn.metrics import mean_squared_error\n",
    "from sklearn.metrics import mean_absolute_percentage_error\n",
    "\n",
    "\n",
    "%matplotlib inline"
   ]
  },
  {
   "cell_type": "markdown",
   "id": "3810404c",
   "metadata": {},
   "source": [
    "# 1. Exploratory Data Analysis (EDA)"
   ]
  },
  {
   "cell_type": "code",
   "execution_count": 4,
   "id": "fd46e313",
   "metadata": {},
   "outputs": [
    {
     "data": {
      "text/html": [
       "<div>\n",
       "<style scoped>\n",
       "    .dataframe tbody tr th:only-of-type {\n",
       "        vertical-align: middle;\n",
       "    }\n",
       "\n",
       "    .dataframe tbody tr th {\n",
       "        vertical-align: top;\n",
       "    }\n",
       "\n",
       "    .dataframe thead th {\n",
       "        text-align: right;\n",
       "    }\n",
       "</style>\n",
       "<table border=\"1\" class=\"dataframe\">\n",
       "  <thead>\n",
       "    <tr style=\"text-align: right;\">\n",
       "      <th></th>\n",
       "      <th>Median_House_Value</th>\n",
       "      <th>Median_Income</th>\n",
       "      <th>Median_Age</th>\n",
       "      <th>Tot_Rooms</th>\n",
       "      <th>Tot_Bedrooms</th>\n",
       "      <th>Population</th>\n",
       "      <th>Households</th>\n",
       "      <th>Latitude</th>\n",
       "      <th>Longitude</th>\n",
       "      <th>Distance_to_coast</th>\n",
       "      <th>Distance_to_LA</th>\n",
       "      <th>Distance_to_SanDiego</th>\n",
       "      <th>Distance_to_SanJose</th>\n",
       "      <th>Distance_to_SanFrancisco</th>\n",
       "    </tr>\n",
       "  </thead>\n",
       "  <tbody>\n",
       "    <tr>\n",
       "      <th>0</th>\n",
       "      <td>452600.0</td>\n",
       "      <td>8.3252</td>\n",
       "      <td>41</td>\n",
       "      <td>880</td>\n",
       "      <td>129</td>\n",
       "      <td>322</td>\n",
       "      <td>126</td>\n",
       "      <td>37.88</td>\n",
       "      <td>-122.23</td>\n",
       "      <td>9263.040773</td>\n",
       "      <td>556529.158342</td>\n",
       "      <td>735501.806984</td>\n",
       "      <td>67432.517001</td>\n",
       "      <td>21250.213767</td>\n",
       "    </tr>\n",
       "    <tr>\n",
       "      <th>1</th>\n",
       "      <td>358500.0</td>\n",
       "      <td>8.3014</td>\n",
       "      <td>21</td>\n",
       "      <td>7099</td>\n",
       "      <td>1106</td>\n",
       "      <td>2401</td>\n",
       "      <td>1138</td>\n",
       "      <td>37.86</td>\n",
       "      <td>-122.22</td>\n",
       "      <td>10225.733072</td>\n",
       "      <td>554279.850069</td>\n",
       "      <td>733236.884360</td>\n",
       "      <td>65049.908574</td>\n",
       "      <td>20880.600400</td>\n",
       "    </tr>\n",
       "    <tr>\n",
       "      <th>2</th>\n",
       "      <td>352100.0</td>\n",
       "      <td>7.2574</td>\n",
       "      <td>52</td>\n",
       "      <td>1467</td>\n",
       "      <td>190</td>\n",
       "      <td>496</td>\n",
       "      <td>177</td>\n",
       "      <td>37.85</td>\n",
       "      <td>-122.24</td>\n",
       "      <td>8259.085109</td>\n",
       "      <td>554610.717069</td>\n",
       "      <td>733525.682937</td>\n",
       "      <td>64867.289833</td>\n",
       "      <td>18811.487450</td>\n",
       "    </tr>\n",
       "    <tr>\n",
       "      <th>3</th>\n",
       "      <td>341300.0</td>\n",
       "      <td>5.6431</td>\n",
       "      <td>52</td>\n",
       "      <td>1274</td>\n",
       "      <td>235</td>\n",
       "      <td>558</td>\n",
       "      <td>219</td>\n",
       "      <td>37.85</td>\n",
       "      <td>-122.25</td>\n",
       "      <td>7768.086571</td>\n",
       "      <td>555194.266086</td>\n",
       "      <td>734095.290744</td>\n",
       "      <td>65287.138412</td>\n",
       "      <td>18031.047568</td>\n",
       "    </tr>\n",
       "    <tr>\n",
       "      <th>4</th>\n",
       "      <td>342200.0</td>\n",
       "      <td>3.8462</td>\n",
       "      <td>52</td>\n",
       "      <td>1627</td>\n",
       "      <td>280</td>\n",
       "      <td>565</td>\n",
       "      <td>259</td>\n",
       "      <td>37.85</td>\n",
       "      <td>-122.25</td>\n",
       "      <td>7768.086571</td>\n",
       "      <td>555194.266086</td>\n",
       "      <td>734095.290744</td>\n",
       "      <td>65287.138412</td>\n",
       "      <td>18031.047568</td>\n",
       "    </tr>\n",
       "  </tbody>\n",
       "</table>\n",
       "</div>"
      ],
      "text/plain": [
       "   Median_House_Value  Median_Income  Median_Age  Tot_Rooms  Tot_Bedrooms  \\\n",
       "0            452600.0         8.3252          41        880           129   \n",
       "1            358500.0         8.3014          21       7099          1106   \n",
       "2            352100.0         7.2574          52       1467           190   \n",
       "3            341300.0         5.6431          52       1274           235   \n",
       "4            342200.0         3.8462          52       1627           280   \n",
       "\n",
       "   Population  Households  Latitude  Longitude  Distance_to_coast  \\\n",
       "0         322         126     37.88    -122.23        9263.040773   \n",
       "1        2401        1138     37.86    -122.22       10225.733072   \n",
       "2         496         177     37.85    -122.24        8259.085109   \n",
       "3         558         219     37.85    -122.25        7768.086571   \n",
       "4         565         259     37.85    -122.25        7768.086571   \n",
       "\n",
       "   Distance_to_LA  Distance_to_SanDiego  Distance_to_SanJose  \\\n",
       "0   556529.158342         735501.806984         67432.517001   \n",
       "1   554279.850069         733236.884360         65049.908574   \n",
       "2   554610.717069         733525.682937         64867.289833   \n",
       "3   555194.266086         734095.290744         65287.138412   \n",
       "4   555194.266086         734095.290744         65287.138412   \n",
       "\n",
       "   Distance_to_SanFrancisco  \n",
       "0              21250.213767  \n",
       "1              20880.600400  \n",
       "2              18811.487450  \n",
       "3              18031.047568  \n",
       "4              18031.047568  "
      ]
     },
     "execution_count": 4,
     "metadata": {},
     "output_type": "execute_result"
    }
   ],
   "source": [
    "house = pd.read_csv(\"/Users/tainguyen103/Desktop/DATA300/California_Houses.csv\")\n",
    "house.head()"
   ]
  },
  {
   "cell_type": "code",
   "execution_count": 22,
   "id": "d200335d",
   "metadata": {},
   "outputs": [
    {
     "data": {
      "text/html": [
       "<div>\n",
       "<style scoped>\n",
       "    .dataframe tbody tr th:only-of-type {\n",
       "        vertical-align: middle;\n",
       "    }\n",
       "\n",
       "    .dataframe tbody tr th {\n",
       "        vertical-align: top;\n",
       "    }\n",
       "\n",
       "    .dataframe thead th {\n",
       "        text-align: right;\n",
       "    }\n",
       "</style>\n",
       "<table border=\"1\" class=\"dataframe\">\n",
       "  <thead>\n",
       "    <tr style=\"text-align: right;\">\n",
       "      <th></th>\n",
       "      <th>Median_House_Value</th>\n",
       "      <th>Median_Income</th>\n",
       "      <th>Median_Age</th>\n",
       "      <th>Tot_Rooms</th>\n",
       "      <th>Tot_Bedrooms</th>\n",
       "      <th>Population</th>\n",
       "      <th>Households</th>\n",
       "      <th>Latitude</th>\n",
       "      <th>Longitude</th>\n",
       "      <th>Distance_to_coast</th>\n",
       "      <th>Distance_to_LA</th>\n",
       "      <th>Distance_to_SanDiego</th>\n",
       "      <th>Distance_to_SanJose</th>\n",
       "      <th>Distance_to_SanFrancisco</th>\n",
       "    </tr>\n",
       "  </thead>\n",
       "  <tbody>\n",
       "    <tr>\n",
       "      <th>20635</th>\n",
       "      <td>78100.0</td>\n",
       "      <td>1.5603</td>\n",
       "      <td>25</td>\n",
       "      <td>1665</td>\n",
       "      <td>374</td>\n",
       "      <td>845</td>\n",
       "      <td>330</td>\n",
       "      <td>39.48</td>\n",
       "      <td>-121.09</td>\n",
       "      <td>162031.481121</td>\n",
       "      <td>654530.186299</td>\n",
       "      <td>830631.543047</td>\n",
       "      <td>248510.058162</td>\n",
       "      <td>222619.890417</td>\n",
       "    </tr>\n",
       "    <tr>\n",
       "      <th>20636</th>\n",
       "      <td>77100.0</td>\n",
       "      <td>2.5568</td>\n",
       "      <td>18</td>\n",
       "      <td>697</td>\n",
       "      <td>150</td>\n",
       "      <td>356</td>\n",
       "      <td>114</td>\n",
       "      <td>39.49</td>\n",
       "      <td>-121.21</td>\n",
       "      <td>160445.433537</td>\n",
       "      <td>659747.068444</td>\n",
       "      <td>836245.915229</td>\n",
       "      <td>246849.888948</td>\n",
       "      <td>218314.424634</td>\n",
       "    </tr>\n",
       "    <tr>\n",
       "      <th>20637</th>\n",
       "      <td>92300.0</td>\n",
       "      <td>1.7000</td>\n",
       "      <td>17</td>\n",
       "      <td>2254</td>\n",
       "      <td>485</td>\n",
       "      <td>1007</td>\n",
       "      <td>433</td>\n",
       "      <td>39.43</td>\n",
       "      <td>-121.22</td>\n",
       "      <td>153754.341182</td>\n",
       "      <td>654042.214020</td>\n",
       "      <td>830699.573163</td>\n",
       "      <td>240172.220489</td>\n",
       "      <td>212097.936232</td>\n",
       "    </tr>\n",
       "    <tr>\n",
       "      <th>20638</th>\n",
       "      <td>84700.0</td>\n",
       "      <td>1.8672</td>\n",
       "      <td>18</td>\n",
       "      <td>1860</td>\n",
       "      <td>409</td>\n",
       "      <td>741</td>\n",
       "      <td>349</td>\n",
       "      <td>39.43</td>\n",
       "      <td>-121.32</td>\n",
       "      <td>152005.022239</td>\n",
       "      <td>657698.007703</td>\n",
       "      <td>834672.461887</td>\n",
       "      <td>238193.865909</td>\n",
       "      <td>207923.199166</td>\n",
       "    </tr>\n",
       "    <tr>\n",
       "      <th>20639</th>\n",
       "      <td>89400.0</td>\n",
       "      <td>2.3886</td>\n",
       "      <td>16</td>\n",
       "      <td>2785</td>\n",
       "      <td>616</td>\n",
       "      <td>1387</td>\n",
       "      <td>530</td>\n",
       "      <td>39.37</td>\n",
       "      <td>-121.24</td>\n",
       "      <td>146866.196892</td>\n",
       "      <td>648723.337126</td>\n",
       "      <td>825569.179028</td>\n",
       "      <td>233282.769063</td>\n",
       "      <td>205473.376575</td>\n",
       "    </tr>\n",
       "  </tbody>\n",
       "</table>\n",
       "</div>"
      ],
      "text/plain": [
       "       Median_House_Value  Median_Income  Median_Age  Tot_Rooms  Tot_Bedrooms  \\\n",
       "20635             78100.0         1.5603          25       1665           374   \n",
       "20636             77100.0         2.5568          18        697           150   \n",
       "20637             92300.0         1.7000          17       2254           485   \n",
       "20638             84700.0         1.8672          18       1860           409   \n",
       "20639             89400.0         2.3886          16       2785           616   \n",
       "\n",
       "       Population  Households  Latitude  Longitude  Distance_to_coast  \\\n",
       "20635         845         330     39.48    -121.09      162031.481121   \n",
       "20636         356         114     39.49    -121.21      160445.433537   \n",
       "20637        1007         433     39.43    -121.22      153754.341182   \n",
       "20638         741         349     39.43    -121.32      152005.022239   \n",
       "20639        1387         530     39.37    -121.24      146866.196892   \n",
       "\n",
       "       Distance_to_LA  Distance_to_SanDiego  Distance_to_SanJose  \\\n",
       "20635   654530.186299         830631.543047        248510.058162   \n",
       "20636   659747.068444         836245.915229        246849.888948   \n",
       "20637   654042.214020         830699.573163        240172.220489   \n",
       "20638   657698.007703         834672.461887        238193.865909   \n",
       "20639   648723.337126         825569.179028        233282.769063   \n",
       "\n",
       "       Distance_to_SanFrancisco  \n",
       "20635             222619.890417  \n",
       "20636             218314.424634  \n",
       "20637             212097.936232  \n",
       "20638             207923.199166  \n",
       "20639             205473.376575  "
      ]
     },
     "execution_count": 22,
     "metadata": {},
     "output_type": "execute_result"
    }
   ],
   "source": [
    "house.tail()"
   ]
  },
  {
   "cell_type": "code",
   "execution_count": 5,
   "id": "aab23075",
   "metadata": {},
   "outputs": [
    {
     "data": {
      "text/plain": [
       "(20640, 14)"
      ]
     },
     "execution_count": 5,
     "metadata": {},
     "output_type": "execute_result"
    }
   ],
   "source": [
    "house.shape"
   ]
  },
  {
   "cell_type": "code",
   "execution_count": 18,
   "id": "e6264a02",
   "metadata": {},
   "outputs": [
    {
     "name": "stdout",
     "output_type": "stream",
     "text": [
      "<class 'pandas.core.frame.DataFrame'>\n",
      "RangeIndex: 20640 entries, 0 to 20639\n",
      "Data columns (total 14 columns):\n",
      " #   Column                    Non-Null Count  Dtype  \n",
      "---  ------                    --------------  -----  \n",
      " 0   Median_House_Value        20640 non-null  float64\n",
      " 1   Median_Income             20640 non-null  float64\n",
      " 2   Median_Age                20640 non-null  int64  \n",
      " 3   Tot_Rooms                 20640 non-null  int64  \n",
      " 4   Tot_Bedrooms              20640 non-null  int64  \n",
      " 5   Population                20640 non-null  int64  \n",
      " 6   Households                20640 non-null  int64  \n",
      " 7   Latitude                  20640 non-null  float64\n",
      " 8   Longitude                 20640 non-null  float64\n",
      " 9   Distance_to_coast         20640 non-null  float64\n",
      " 10  Distance_to_LA            20640 non-null  float64\n",
      " 11  Distance_to_SanDiego      20640 non-null  float64\n",
      " 12  Distance_to_SanJose       20640 non-null  float64\n",
      " 13  Distance_to_SanFrancisco  20640 non-null  float64\n",
      "dtypes: float64(9), int64(5)\n",
      "memory usage: 2.2 MB\n"
     ]
    }
   ],
   "source": [
    "house.info()"
   ]
  },
  {
   "cell_type": "code",
   "execution_count": 6,
   "id": "9883e1ae",
   "metadata": {},
   "outputs": [
    {
     "data": {
      "text/plain": [
       "Index(['Median_House_Value', 'Median_Income', 'Median_Age', 'Tot_Rooms',\n",
       "       'Tot_Bedrooms', 'Population', 'Households', 'Latitude', 'Longitude',\n",
       "       'Distance_to_coast', 'Distance_to_LA', 'Distance_to_SanDiego',\n",
       "       'Distance_to_SanJose', 'Distance_to_SanFrancisco'],\n",
       "      dtype='object')"
      ]
     },
     "execution_count": 6,
     "metadata": {},
     "output_type": "execute_result"
    }
   ],
   "source": [
    "house.columns"
   ]
  },
  {
   "cell_type": "code",
   "execution_count": 7,
   "id": "d139dd5a",
   "metadata": {},
   "outputs": [
    {
     "data": {
      "text/plain": [
       "Median_House_Value          float64\n",
       "Median_Income               float64\n",
       "Median_Age                    int64\n",
       "Tot_Rooms                     int64\n",
       "Tot_Bedrooms                  int64\n",
       "Population                    int64\n",
       "Households                    int64\n",
       "Latitude                    float64\n",
       "Longitude                   float64\n",
       "Distance_to_coast           float64\n",
       "Distance_to_LA              float64\n",
       "Distance_to_SanDiego        float64\n",
       "Distance_to_SanJose         float64\n",
       "Distance_to_SanFrancisco    float64\n",
       "dtype: object"
      ]
     },
     "execution_count": 7,
     "metadata": {},
     "output_type": "execute_result"
    }
   ],
   "source": [
    "house.dtypes"
   ]
  },
  {
   "cell_type": "code",
   "execution_count": 8,
   "id": "c7448a89",
   "metadata": {},
   "outputs": [
    {
     "data": {
      "text/plain": [
       "Median_House_Value          0\n",
       "Median_Income               0\n",
       "Median_Age                  0\n",
       "Tot_Rooms                   0\n",
       "Tot_Bedrooms                0\n",
       "Population                  0\n",
       "Households                  0\n",
       "Latitude                    0\n",
       "Longitude                   0\n",
       "Distance_to_coast           0\n",
       "Distance_to_LA              0\n",
       "Distance_to_SanDiego        0\n",
       "Distance_to_SanJose         0\n",
       "Distance_to_SanFrancisco    0\n",
       "dtype: int64"
      ]
     },
     "execution_count": 8,
     "metadata": {},
     "output_type": "execute_result"
    }
   ],
   "source": [
    "house.isna().sum()"
   ]
  },
  {
   "cell_type": "markdown",
   "id": "7315a3de",
   "metadata": {},
   "source": [
    "### Data has no missing values, which is great! However, suppose there exists some missing values in some particular columns, there are ways we can impute to resolve the problem. Here is a suggesion: "
   ]
  },
  {
   "cell_type": "code",
   "execution_count": 21,
   "id": "860288ca",
   "metadata": {},
   "outputs": [],
   "source": [
    "##find out which column has missing values, and replace with zero\n",
    "cols_with_missing_values = house.columns[house.isna().sum() > 0]\n",
    "for col in cols_with_missing_values[:-1]:\n",
    "    house[col].fillna(house[col].mode()[0])"
   ]
  },
  {
   "cell_type": "code",
   "execution_count": 9,
   "id": "07d0c8e4",
   "metadata": {},
   "outputs": [
    {
     "data": {
      "text/html": [
       "<div>\n",
       "<style scoped>\n",
       "    .dataframe tbody tr th:only-of-type {\n",
       "        vertical-align: middle;\n",
       "    }\n",
       "\n",
       "    .dataframe tbody tr th {\n",
       "        vertical-align: top;\n",
       "    }\n",
       "\n",
       "    .dataframe thead th {\n",
       "        text-align: right;\n",
       "    }\n",
       "</style>\n",
       "<table border=\"1\" class=\"dataframe\">\n",
       "  <thead>\n",
       "    <tr style=\"text-align: right;\">\n",
       "      <th></th>\n",
       "      <th>Median_House_Value</th>\n",
       "      <th>Median_Income</th>\n",
       "      <th>Median_Age</th>\n",
       "      <th>Tot_Rooms</th>\n",
       "      <th>Tot_Bedrooms</th>\n",
       "      <th>Population</th>\n",
       "      <th>Households</th>\n",
       "      <th>Latitude</th>\n",
       "      <th>Longitude</th>\n",
       "      <th>Distance_to_coast</th>\n",
       "      <th>Distance_to_LA</th>\n",
       "      <th>Distance_to_SanDiego</th>\n",
       "      <th>Distance_to_SanJose</th>\n",
       "      <th>Distance_to_SanFrancisco</th>\n",
       "    </tr>\n",
       "  </thead>\n",
       "  <tbody>\n",
       "    <tr>\n",
       "      <th>count</th>\n",
       "      <td>20640.000000</td>\n",
       "      <td>20640.000000</td>\n",
       "      <td>20640.000000</td>\n",
       "      <td>20640.000000</td>\n",
       "      <td>20640.000000</td>\n",
       "      <td>20640.000000</td>\n",
       "      <td>20640.000000</td>\n",
       "      <td>20640.000000</td>\n",
       "      <td>20640.000000</td>\n",
       "      <td>20640.000000</td>\n",
       "      <td>2.064000e+04</td>\n",
       "      <td>2.064000e+04</td>\n",
       "      <td>20640.000000</td>\n",
       "      <td>20640.000000</td>\n",
       "    </tr>\n",
       "    <tr>\n",
       "      <th>mean</th>\n",
       "      <td>206855.816909</td>\n",
       "      <td>3.870671</td>\n",
       "      <td>28.639486</td>\n",
       "      <td>2635.763081</td>\n",
       "      <td>537.898014</td>\n",
       "      <td>1425.476744</td>\n",
       "      <td>499.539680</td>\n",
       "      <td>35.631861</td>\n",
       "      <td>-119.569704</td>\n",
       "      <td>40509.264883</td>\n",
       "      <td>2.694220e+05</td>\n",
       "      <td>3.981649e+05</td>\n",
       "      <td>349187.551219</td>\n",
       "      <td>386688.422291</td>\n",
       "    </tr>\n",
       "    <tr>\n",
       "      <th>std</th>\n",
       "      <td>115395.615874</td>\n",
       "      <td>1.899822</td>\n",
       "      <td>12.585558</td>\n",
       "      <td>2181.615252</td>\n",
       "      <td>421.247906</td>\n",
       "      <td>1132.462122</td>\n",
       "      <td>382.329753</td>\n",
       "      <td>2.135952</td>\n",
       "      <td>2.003532</td>\n",
       "      <td>49140.039160</td>\n",
       "      <td>2.477324e+05</td>\n",
       "      <td>2.894006e+05</td>\n",
       "      <td>217149.875026</td>\n",
       "      <td>250122.192316</td>\n",
       "    </tr>\n",
       "    <tr>\n",
       "      <th>min</th>\n",
       "      <td>14999.000000</td>\n",
       "      <td>0.499900</td>\n",
       "      <td>1.000000</td>\n",
       "      <td>2.000000</td>\n",
       "      <td>1.000000</td>\n",
       "      <td>3.000000</td>\n",
       "      <td>1.000000</td>\n",
       "      <td>32.540000</td>\n",
       "      <td>-124.350000</td>\n",
       "      <td>120.676447</td>\n",
       "      <td>4.205891e+02</td>\n",
       "      <td>4.849180e+02</td>\n",
       "      <td>569.448118</td>\n",
       "      <td>456.141313</td>\n",
       "    </tr>\n",
       "    <tr>\n",
       "      <th>25%</th>\n",
       "      <td>119600.000000</td>\n",
       "      <td>2.563400</td>\n",
       "      <td>18.000000</td>\n",
       "      <td>1447.750000</td>\n",
       "      <td>295.000000</td>\n",
       "      <td>787.000000</td>\n",
       "      <td>280.000000</td>\n",
       "      <td>33.930000</td>\n",
       "      <td>-121.800000</td>\n",
       "      <td>9079.756762</td>\n",
       "      <td>3.211125e+04</td>\n",
       "      <td>1.594264e+05</td>\n",
       "      <td>113119.928682</td>\n",
       "      <td>117395.477505</td>\n",
       "    </tr>\n",
       "    <tr>\n",
       "      <th>50%</th>\n",
       "      <td>179700.000000</td>\n",
       "      <td>3.534800</td>\n",
       "      <td>29.000000</td>\n",
       "      <td>2127.000000</td>\n",
       "      <td>435.000000</td>\n",
       "      <td>1166.000000</td>\n",
       "      <td>409.000000</td>\n",
       "      <td>34.260000</td>\n",
       "      <td>-118.490000</td>\n",
       "      <td>20522.019101</td>\n",
       "      <td>1.736675e+05</td>\n",
       "      <td>2.147398e+05</td>\n",
       "      <td>459758.877000</td>\n",
       "      <td>526546.661701</td>\n",
       "    </tr>\n",
       "    <tr>\n",
       "      <th>75%</th>\n",
       "      <td>264725.000000</td>\n",
       "      <td>4.743250</td>\n",
       "      <td>37.000000</td>\n",
       "      <td>3148.000000</td>\n",
       "      <td>647.000000</td>\n",
       "      <td>1725.000000</td>\n",
       "      <td>605.000000</td>\n",
       "      <td>37.710000</td>\n",
       "      <td>-118.010000</td>\n",
       "      <td>49830.414479</td>\n",
       "      <td>5.271562e+05</td>\n",
       "      <td>7.057954e+05</td>\n",
       "      <td>516946.490963</td>\n",
       "      <td>584552.007907</td>\n",
       "    </tr>\n",
       "    <tr>\n",
       "      <th>max</th>\n",
       "      <td>500001.000000</td>\n",
       "      <td>15.000100</td>\n",
       "      <td>52.000000</td>\n",
       "      <td>39320.000000</td>\n",
       "      <td>6445.000000</td>\n",
       "      <td>35682.000000</td>\n",
       "      <td>6082.000000</td>\n",
       "      <td>41.950000</td>\n",
       "      <td>-114.310000</td>\n",
       "      <td>333804.686371</td>\n",
       "      <td>1.018260e+06</td>\n",
       "      <td>1.196919e+06</td>\n",
       "      <td>836762.678210</td>\n",
       "      <td>903627.663298</td>\n",
       "    </tr>\n",
       "  </tbody>\n",
       "</table>\n",
       "</div>"
      ],
      "text/plain": [
       "       Median_House_Value  Median_Income    Median_Age     Tot_Rooms  \\\n",
       "count        20640.000000   20640.000000  20640.000000  20640.000000   \n",
       "mean        206855.816909       3.870671     28.639486   2635.763081   \n",
       "std         115395.615874       1.899822     12.585558   2181.615252   \n",
       "min          14999.000000       0.499900      1.000000      2.000000   \n",
       "25%         119600.000000       2.563400     18.000000   1447.750000   \n",
       "50%         179700.000000       3.534800     29.000000   2127.000000   \n",
       "75%         264725.000000       4.743250     37.000000   3148.000000   \n",
       "max         500001.000000      15.000100     52.000000  39320.000000   \n",
       "\n",
       "       Tot_Bedrooms    Population    Households      Latitude     Longitude  \\\n",
       "count  20640.000000  20640.000000  20640.000000  20640.000000  20640.000000   \n",
       "mean     537.898014   1425.476744    499.539680     35.631861   -119.569704   \n",
       "std      421.247906   1132.462122    382.329753      2.135952      2.003532   \n",
       "min        1.000000      3.000000      1.000000     32.540000   -124.350000   \n",
       "25%      295.000000    787.000000    280.000000     33.930000   -121.800000   \n",
       "50%      435.000000   1166.000000    409.000000     34.260000   -118.490000   \n",
       "75%      647.000000   1725.000000    605.000000     37.710000   -118.010000   \n",
       "max     6445.000000  35682.000000   6082.000000     41.950000   -114.310000   \n",
       "\n",
       "       Distance_to_coast  Distance_to_LA  Distance_to_SanDiego  \\\n",
       "count       20640.000000    2.064000e+04          2.064000e+04   \n",
       "mean        40509.264883    2.694220e+05          3.981649e+05   \n",
       "std         49140.039160    2.477324e+05          2.894006e+05   \n",
       "min           120.676447    4.205891e+02          4.849180e+02   \n",
       "25%          9079.756762    3.211125e+04          1.594264e+05   \n",
       "50%         20522.019101    1.736675e+05          2.147398e+05   \n",
       "75%         49830.414479    5.271562e+05          7.057954e+05   \n",
       "max        333804.686371    1.018260e+06          1.196919e+06   \n",
       "\n",
       "       Distance_to_SanJose  Distance_to_SanFrancisco  \n",
       "count         20640.000000              20640.000000  \n",
       "mean         349187.551219             386688.422291  \n",
       "std          217149.875026             250122.192316  \n",
       "min             569.448118                456.141313  \n",
       "25%          113119.928682             117395.477505  \n",
       "50%          459758.877000             526546.661701  \n",
       "75%          516946.490963             584552.007907  \n",
       "max          836762.678210             903627.663298  "
      ]
     },
     "execution_count": 9,
     "metadata": {},
     "output_type": "execute_result"
    }
   ],
   "source": [
    "house.describe()"
   ]
  },
  {
   "cell_type": "code",
   "execution_count": 17,
   "id": "fdd7e0e1",
   "metadata": {},
   "outputs": [
    {
     "name": "stderr",
     "output_type": "stream",
     "text": [
      "/var/folders/yv/rbjy2ldj4sz8gpjwrvqmdsym0000gn/T/ipykernel_20359/2502146826.py:2: UserWarning: Tight layout not applied. tight_layout cannot make axes height small enough to accommodate all axes decorations.\n",
      "  plt.tight_layout()\n"
     ]
    },
    {
     "data": {
      "image/png": "[encoded data removed]",
      "text/plain": [
       "<Figure size 640x480 with 14 Axes>"
      ]
     },
     "metadata": {},
     "output_type": "display_data"
    }
   ],
   "source": [
    "house.plot(subplots=True)\n",
    "plt.tight_layout()\n",
    "plt.show()"
   ]
  },
  {
   "cell_type": "markdown",
   "id": "2c275bfb",
   "metadata": {},
   "source": [
    "# 2. Split data into training set and testing set"
   ]
  },
  {
   "cell_type": "code",
   "execution_count": 27,
   "id": "a59436b7",
   "metadata": {},
   "outputs": [],
   "source": [
    "y = house[\"Median_House_Value\"]\n",
    "x = house.loc[:, house.columns != \"Median_House_Value\"] "
   ]
  },
  {
   "cell_type": "code",
   "execution_count": 41,
   "id": "b7430e15",
   "metadata": {},
   "outputs": [],
   "source": [
    "x_train, x_test, y_train, y_test = train_test_split(x, y, test_size=0.1, train_size=0.9, random_state=5)"
   ]
  },
  {
   "cell_type": "markdown",
   "id": "647050ac",
   "metadata": {},
   "source": [
    "# 3. Regression model & coefficients"
   ]
  },
  {
   "cell_type": "code",
   "execution_count": 42,
   "id": "c2520a33",
   "metadata": {},
   "outputs": [
    {
     "data": {
      "text/html": [
       "<style>#sk-container-id-3 {color: black;background-color: white;}#sk-container-id-3 pre{padding: 0;}#sk-container-id-3 div.sk-toggleable {background-color: white;}#sk-container-id-3 label.sk-toggleable__label {cursor: pointer;display: block;width: 100%;margin-bottom: 0;padding: 0.3em;box-sizing: border-box;text-align: center;}#sk-container-id-3 label.sk-toggleable__label-arrow:before {content: \"▸\";float: left;margin-right: 0.25em;color: #696969;}#sk-container-id-3 label.sk-toggleable__label-arrow:hover:before {color: black;}#sk-container-id-3 div.sk-estimator:hover label.sk-toggleable__label-arrow:before {color: black;}#sk-container-id-3 div.sk-toggleable__content {max-height: 0;max-width: 0;overflow: hidden;text-align: left;background-color: #f0f8ff;}#sk-container-id-3 div.sk-toggleable__content pre {margin: 0.2em;color: black;border-radius: 0.25em;background-color: #f0f8ff;}#sk-container-id-3 input.sk-toggleable__control:checked~div.sk-toggleable__content {max-height: 200px;max-width: 100%;overflow: auto;}#sk-container-id-3 input.sk-toggleable__control:checked~label.sk-toggleable__label-arrow:before {content: \"▾\";}#sk-container-id-3 div.sk-estimator input.sk-toggleable__control:checked~label.sk-toggleable__label {background-color: #d4ebff;}#sk-container-id-3 div.sk-label input.sk-toggleable__control:checked~label.sk-toggleable__label {background-color: #d4ebff;}#sk-container-id-3 input.sk-hidden--visually {border: 0;clip: rect(1px 1px 1px 1px);clip: rect(1px, 1px, 1px, 1px);height: 1px;margin: -1px;overflow: hidden;padding: 0;position: absolute;width: 1px;}#sk-container-id-3 div.sk-estimator {font-family: monospace;background-color: #f0f8ff;border: 1px dotted black;border-radius: 0.25em;box-sizing: border-box;margin-bottom: 0.5em;}#sk-container-id-3 div.sk-estimator:hover {background-color: #d4ebff;}#sk-container-id-3 div.sk-parallel-item::after {content: \"\";width: 100%;border-bottom: 1px solid gray;flex-grow: 1;}#sk-container-id-3 div.sk-label:hover label.sk-toggleable__label {background-color: #d4ebff;}#sk-container-id-3 div.sk-serial::before {content: \"\";position: absolute;border-left: 1px solid gray;box-sizing: border-box;top: 0;bottom: 0;left: 50%;z-index: 0;}#sk-container-id-3 div.sk-serial {display: flex;flex-direction: column;align-items: center;background-color: white;padding-right: 0.2em;padding-left: 0.2em;position: relative;}#sk-container-id-3 div.sk-item {position: relative;z-index: 1;}#sk-container-id-3 div.sk-parallel {display: flex;align-items: stretch;justify-content: center;background-color: white;position: relative;}#sk-container-id-3 div.sk-item::before, #sk-container-id-3 div.sk-parallel-item::before {content: \"\";position: absolute;border-left: 1px solid gray;box-sizing: border-box;top: 0;bottom: 0;left: 50%;z-index: -1;}#sk-container-id-3 div.sk-parallel-item {display: flex;flex-direction: column;z-index: 1;position: relative;background-color: white;}#sk-container-id-3 div.sk-parallel-item:first-child::after {align-self: flex-end;width: 50%;}#sk-container-id-3 div.sk-parallel-item:last-child::after {align-self: flex-start;width: 50%;}#sk-container-id-3 div.sk-parallel-item:only-child::after {width: 0;}#sk-container-id-3 div.sk-dashed-wrapped {border: 1px dashed gray;margin: 0 0.4em 0.5em 0.4em;box-sizing: border-box;padding-bottom: 0.4em;background-color: white;}#sk-container-id-3 div.sk-label label {font-family: monospace;font-weight: bold;display: inline-block;line-height: 1.2em;}#sk-container-id-3 div.sk-label-container {text-align: center;}#sk-container-id-3 div.sk-container {/* jupyter's `normalize.less` sets `[hidden] { display: none; }` but bootstrap.min.css set `[hidden] { display: none !important; }` so we also need the `!important` here to be able to override the default hidden behavior on the sphinx rendered scikit-learn.org. See: https://github.com/scikit-learn/scikit-learn/issues/21755 */display: inline-block !important;position: relative;}#sk-container-id-3 div.sk-text-repr-fallback {display: none;}</style><div id=\"sk-container-id-3\" class=\"sk-top-container\"><div class=\"sk-text-repr-fallback\"><pre>LinearRegression()</pre><b>In a Jupyter environment, please rerun this cell to show the HTML representation or trust the notebook. <br />On GitHub, the HTML representation is unable to render, please try loading this page with nbviewer.org.</b></div><div class=\"sk-container\" hidden><div class=\"sk-item\"><div class=\"sk-estimator sk-toggleable\"><input class=\"sk-toggleable__control sk-hidden--visually\" id=\"sk-estimator-id-3\" type=\"checkbox\" checked><label for=\"sk-estimator-id-3\" class=\"sk-toggleable__label sk-toggleable__label-arrow\">LinearRegression</label><div class=\"sk-toggleable__content\"><pre>LinearRegression()</pre></div></div></div></div></div>"
      ],
      "text/plain": [
       "LinearRegression()"
      ]
     },
     "execution_count": 42,
     "metadata": {},
     "output_type": "execute_result"
    }
   ],
   "source": [
    "model = LinearRegression()\n",
    "model.fit(x_train, y_train)"
   ]
  },
  {
   "cell_type": "code",
   "execution_count": 43,
   "id": "659b1106",
   "metadata": {},
   "outputs": [
    {
     "data": {
      "text/plain": [
       "array([ 3.92054987e+04,  8.69386746e+02, -6.02807682e+00,  1.00860447e+02,\n",
       "       -3.90346924e+01,  4.95026248e+01, -4.56118256e+04, -2.71925513e+04,\n",
       "       -2.27239533e-01, -1.45268955e-01,  2.52093747e-01,  1.67445570e-01,\n",
       "       -1.39155534e-01])"
      ]
     },
     "execution_count": 43,
     "metadata": {},
     "output_type": "execute_result"
    }
   ],
   "source": [
    "model.coef_"
   ]
  },
  {
   "cell_type": "markdown",
   "id": "619ac1d9",
   "metadata": {},
   "source": [
    "# 4. R-squared & fitness of model"
   ]
  },
  {
   "cell_type": "code",
   "execution_count": 44,
   "id": "4a9fb518",
   "metadata": {},
   "outputs": [
    {
     "name": "stdout",
     "output_type": "stream",
     "text": [
      "-1660183.3976970601\n"
     ]
    }
   ],
   "source": [
    "print(model.intercept_)"
   ]
  },
  {
   "cell_type": "code",
   "execution_count": 45,
   "id": "af479647",
   "metadata": {},
   "outputs": [
    {
     "name": "stdout",
     "output_type": "stream",
     "text": [
      "0.6581840974612524\n"
     ]
    }
   ],
   "source": [
    "print(model.score(x_test, y_test))"
   ]
  },
  {
   "cell_type": "markdown",
   "id": "9467680d",
   "metadata": {},
   "source": [
    "# 5. Predict the response variable on the test set"
   ]
  },
  {
   "cell_type": "code",
   "execution_count": 46,
   "id": "5c11c0ca",
   "metadata": {},
   "outputs": [],
   "source": [
    "y_pred = model.predict(x_test)"
   ]
  },
  {
   "cell_type": "markdown",
   "id": "335ed978",
   "metadata": {},
   "source": [
    "# 6. Error metrics on the predicted and actual y values"
   ]
  },
  {
   "cell_type": "code",
   "execution_count": 47,
   "id": "3963614a",
   "metadata": {},
   "outputs": [],
   "source": [
    "MAE = mean_absolute_error(y_test,y_pred)"
   ]
  },
  {
   "cell_type": "code",
   "execution_count": 48,
   "id": "ee6fd3d9",
   "metadata": {},
   "outputs": [],
   "source": [
    "MSE = mean_squared_error(y_test,y_pred)"
   ]
  },
  {
   "cell_type": "code",
   "execution_count": 49,
   "id": "0e2fc178",
   "metadata": {},
   "outputs": [],
   "source": [
    "MAPE =  mean_absolute_percentage_error(y_test,y_pred)"
   ]
  },
  {
   "cell_type": "code",
   "execution_count": 53,
   "id": "ad0f3620",
   "metadata": {},
   "outputs": [
    {
     "data": {
      "text/plain": [
       "(4848208239.948827, 50732.36276176588, 0.2885650212611001)"
      ]
     },
     "execution_count": 53,
     "metadata": {},
     "output_type": "execute_result"
    }
   ],
   "source": [
    "MSE, MAE, MAPE"
   ]
  },
  {
   "cell_type": "code",
   "execution_count": null,
   "id": "443942c1",
   "metadata": {},
   "outputs": [],
   "source": []
  }
 ],
 "metadata": {
  "kernelspec": {
   "display_name": "Python 3 (ipykernel)",
   "language": "python",
   "name": "python3"
  },
  "language_info": {
   "codemirror_mode": {
    "name": "ipython",
    "version": 3
   },
   "file_extension": ".py",
   "mimetype": "text/x-python",
   "name": "python",
   "nbconvert_exporter": "python",
   "pygments_lexer": "ipython3",
   "version": "3.11.3"
  }
 },
 "nbformat": 4,
 "nbformat_minor": 5
}
